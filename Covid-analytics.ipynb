{
 "cells": [
  {
   "cell_type": "markdown",
   "metadata": {},
   "source": [
    "This Notebook takes the NYT county-level data, which is a single csv file with columns (date, county, state, fips, cases, deaths) and turns it into 52 JSON files, one per state, (50 states + PR and  DC), where each JSON structure is an array of county records.  Each county record is of the form {name, population, state, records} where records are the daily records for the county.  The first record is a header, which shows the columns in the remaining records.  These are typically \"Month\", \"Day\", \"DayNum\", \"Cases\", \"Deaths\", \"New Cases\", \"New Deaths\", \"Growth in Cases\", \"Growth in Deaths\", \"7-Day Average New Cases\", \"7-Day Average New Deaths\", \"7-Day Average Growth in Cases\", \"7-Day Average Growth in Deaths\".\n",
    "The NYT data is fetched from github: https://raw.githubusercontent.com/nytimes/covid-19-data/master/us-counties.csv"
   ]
  },
  {
   "cell_type": "code",
   "execution_count": null,
   "metadata": {},
   "outputs": [],
   "source": [
    "\n",
    "import urllib.request\n",
    "url = 'https://raw.githubusercontent.com/nytimes/covid-19-data/master/us-counties.csv'\n",
    "with urllib.request.urlopen(url) as response:\n",
    "   data = response.read()\n",
    "asString = data.decode('utf-8')\n",
    "lines = asString.split('\\n')\n",
    "lines = lines[1:]\n",
    "lines[-1]\n"
   ]
  },
  {
   "cell_type": "markdown",
   "metadata": {},
   "source": [
    "Setup an error catcher (just in case) and a function which takes a line, and turns it into a list of values.  The output after this is [month, day of month, day of year, fips, state, county, cases, deaths].  On some records the last value gets chopped, so put in 0 as a default for that."
   ]
  },
  {
   "cell_type": "code",
   "execution_count": 198,
   "metadata": {},
   "outputs": [],
   "source": [
    "errors = []\n",
    "firstDays = [0, 0, 31, 60, 91, 121, 152, 182, 213, 244, 274, 305, 335]\n",
    "def process_line(line):\n",
    "    try:\n",
    "        record = line.split(',')\n",
    "        date = record[0].split('-')\n",
    "        month = int(date[1])\n",
    "        day = int(date[2])\n",
    "        day_num = firstDays[month] + day - 21\n",
    "        return [month, day, day_num, record[3], record[2], record[1], int(record[-2]), int(record[-1])]\n",
    "    except ValueError:\n",
    "        return [month, day, day_num, record[2], record[1], int(record[-2]), 0]"
   ]
  },
  {
   "cell_type": "markdown",
   "metadata": {},
   "source": [
    "Do all the lines, then print out the first 10, just to be on the safe side.  Note we sort in increasing order by fips.\n"
   ]
  },
  {
   "cell_type": "code",
   "execution_count": null,
   "metadata": {},
   "outputs": [],
   "source": [
    "errors = []\n",
    "next_lines = [process_line(line) for line in lines]\n",
    "next_lines = [line for line in next_lines if len(line[3]) > 0]\n",
    "next_lines.sort( key=lambda x:x[3])\n",
    "next_lines[:10]"
   ]
  },
  {
   "cell_type": "markdown",
   "metadata": {},
   "source": [
    "Utility functions to compute 7-day averages"
   ]
  },
  {
   "cell_type": "code",
   "execution_count": 200,
   "metadata": {},
   "outputs": [],
   "source": [
    "def average(list):\n",
    "    return round(sum(list)/len(list), 2)\n",
    "\n",
    "def seven_day_average(list):\n",
    "    result = []\n",
    "    for i in range(1, 7):\n",
    "        result.append(average(list[:i]))\n",
    "    for i in range(7, len(list)+1):\n",
    "        result.append(average(list[i - 7:i-1]))\n",
    "    return result\n",
    "    "
   ]
  },
  {
   "cell_type": "markdown",
   "metadata": {},
   "source": [
    "The class that adds additional fields to each County.  Specifically, adds change, growth for both deaths and cases, and adds a seven-day average for growths and deaths"
   ]
  },
  {
   "cell_type": "code",
   "execution_count": 201,
   "metadata": {},
   "outputs": [],
   "source": [
    "class County:\n",
    "    def __init__(self, state_name, county_name, population):\n",
    "        self.delta = {'cases': None, 'deaths': None}\n",
    "        self.growth = {'cases': None, 'deaths': None}\n",
    "        self.seven_day_average = {'cases': None, 'deaths': None}\n",
    "        self.seven_day_average_growth = {'cases': None, 'deaths': None}\n",
    "        self.records = []\n",
    "        self.state_name = state_name\n",
    "        self.county_name = county_name\n",
    "        self.population = population\n",
    "    \n",
    "    def set_growth(self, index, name):\n",
    "        delta = [0]\n",
    "        pct = [0]\n",
    "        values = [line[index] for line in self.records]\n",
    "        for i in range(1, len(values)):\n",
    "            dayGrowth = values[i] - values[i - 1]\n",
    "            pctGrowth = dayGrowth * 1.0/values[i - 1]if values[i - 1] > 0 else 1.0\n",
    "            delta.append(dayGrowth)\n",
    "            pct.append(pctGrowth)\n",
    "        self.delta[name] = delta\n",
    "        self.growth[name] = pct\n",
    "        \n",
    "    #\n",
    "    # Dumps the output record.  The output record for a county is given in the top cell of the Notebook, so check there.\n",
    "    #\n",
    "        \n",
    "        \n",
    "    def output_record(self):\n",
    "        result = {'name': self.county_name, 'state': self.state_name, 'population': self.population}\n",
    "        records = [line[:3] + line[6:] for line in self.records]\n",
    "        header = ['Month', 'Day', 'DayNum', 'Cases', 'Deaths']\n",
    "        if self.delta['cases'] and len(self.delta['cases'])  == len(self.records):\n",
    "            header = header + ['New Cases', 'New Deaths']\n",
    "            for i in range(len(self.records)):\n",
    "                records[i] = records[i] + [self.delta['cases'][i], self.delta['deaths'][i]]\n",
    "        if self.growth['cases'] and len(self.growth['cases'])  == len(self.records):\n",
    "            header = header + ['Growth in Cases', 'Growth in Deaths']\n",
    "            for i in range(len(self.records)):\n",
    "                records[i] = records[i] + [self.growth['cases'][i], self.growth['deaths'][i]]\n",
    "        if self.seven_day_average['cases'] and len(self.seven_day_average['cases'])  == len(self.records):\n",
    "            header = header + ['7-Day Average New Cases', '7-Day Average New Deaths']\n",
    "            for i in range(len(self.records)):\n",
    "                records[i] = records[i] + [self.seven_day_average['cases'][i], self.seven_day_average['deaths'][i]]\n",
    "        if self.seven_day_average_growth['cases'] and len(self.seven_day_average_growth['cases'])  == len(self.records):\n",
    "            header = header + ['7-Day Average Growth in Cases', '7-Day Average Growth in Deaths']\n",
    "            for i in range(len(self.records)):\n",
    "                records[i] = records[i] + [self.seven_day_average_growth['cases'][i], self.seven_day_average_growth['deaths'][i]]\n",
    "        result['records'] = [header] + records\n",
    "        return result"
   ]
  },
  {
   "cell_type": "markdown",
   "metadata": {},
   "source": [
    "Create the County records, and stick each one in two dictionaries: one by state name, and the other indexed by the County's FIPS.  The dictionary ordered by FIPS is used to iterate through all the counties; the one by state used to output the state file.  Start by reading the county populations from County_Population.csv, and using those to create County structures.  Note that in County_Population.csv, the FIPS entry sometimes is missing the leading 0, so add that.\n",
    "Once we've created the county records, add each line from the infection records to the appropriate county.  bad_lines contains the lines we weren't able to place (should be empty)"
   ]
  },
  {
   "cell_type": "code",
   "execution_count": 202,
   "metadata": {},
   "outputs": [],
   "source": [
    "f = open('County_Population.csv', 'r')\n",
    "county_lines = f.readlines()[1:]\n",
    "f.close()\n",
    "county_records = [line[:-1].split(',') for line in county_lines]\n",
    "county_dict = {}\n",
    "state_dict = {}\n",
    "bad_lines = []\n",
    "for record in county_records:\n",
    "    state_name = record[3]\n",
    "    new_county = County(state_name, record[2], int(record[4]))\n",
    "    county_fips = record[1] if len(record[1]) == 5 else '0' + record[1]\n",
    "    county_dict[county_fips] = new_county\n",
    "    if (state_name in state_dict):\n",
    "        state_dict[state_name].append(new_county)\n",
    "    else:\n",
    "        state_dict[state_name] = [new_county]\n",
    "for line in next_lines:\n",
    "    county_fips = line[3]\n",
    "    try: \n",
    "        county_dict[county_fips].records.append(line)\n",
    "    except:\n",
    "        bad_lines.append(line)"
   ]
  },
  {
   "cell_type": "markdown",
   "metadata": {},
   "source": [
    "Add growth to each county."
   ]
  },
  {
   "cell_type": "code",
   "execution_count": 203,
   "metadata": {},
   "outputs": [],
   "source": [
    "for county in county_dict.values():\n",
    "    county.records.sort(key = lambda rec: rec[2])\n",
    "    county.set_growth(-2, 'cases')\n",
    "    county.set_growth(-1, 'deaths')\n",
    "        "
   ]
  },
  {
   "cell_type": "markdown",
   "metadata": {},
   "source": [
    "Add the averages to each county"
   ]
  },
  {
   "cell_type": "code",
   "execution_count": 204,
   "metadata": {},
   "outputs": [],
   "source": [
    "for county in county_dict.values():\n",
    "    county.seven_day_average = {'cases': seven_day_average(county.delta['cases']), 'deaths': seven_day_average(county.delta['deaths'])}\n",
    "    county.seven_day_average_growth = {'cases': seven_day_average(county.growth['cases']), 'deaths': seven_day_average(county.growth['deaths'])}"
   ]
  },
  {
   "cell_type": "markdown",
   "metadata": {},
   "source": [
    "At this point the analytics are complete.  For each state in order, open the appropriate file in covid_state_data and dump the record into it."
   ]
  },
  {
   "cell_type": "code",
   "execution_count": 205,
   "metadata": {},
   "outputs": [],
   "source": [
    "import json\n",
    "for state in state_dict.keys():\n",
    "    f = open('covid_state_data/%s.json' % state.lower(), 'w')\n",
    "    counties = state_dict[state]\n",
    "    county_records = [county.output_record() for county in counties]\n",
    "    f.write(json.dumps(county_records))\n",
    "    f.close()"
   ]
  },
  {
   "cell_type": "code",
   "execution_count": null,
   "metadata": {},
   "outputs": [],
   "source": []
  }
 ],
 "metadata": {
  "kernelspec": {
   "display_name": "Python 3",
   "language": "python",
   "name": "python3"
  },
  "language_info": {
   "codemirror_mode": {
    "name": "ipython",
    "version": 3
   },
   "file_extension": ".py",
   "mimetype": "text/x-python",
   "name": "python",
   "nbconvert_exporter": "python",
   "pygments_lexer": "ipython3",
   "version": "3.7.3"
  }
 },
 "nbformat": 4,
 "nbformat_minor": 4
}
